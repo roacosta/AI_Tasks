{
 "cells": [
  {
   "cell_type": "code",
   "execution_count": 15,
   "metadata": {},
   "outputs": [
    {
     "name": "stdout",
     "output_type": "stream",
     "text": [
      "0.35667497\n"
     ]
    }
   ],
   "source": [
    "import tensorflow as tf\n",
    "\n",
    "softmax_data = [0.7, 0.2, 0.1]\n",
    "one_hot_data = [1.0, 0.0, 0.0]\n",
    "\n",
    "def run():\n",
    "    output = None\n",
    "    softmax = tf.placeholder(tf.float32)\n",
    "    one_hot = tf.placeholder(tf.float32)\n",
    "    \n",
    "    CrossEntropy = -tf.reduce_sum(tf.multiply(tf.log(softmax),one_hot))\n",
    "    \n",
    "    with tf.Session() as sess:\n",
    "        output = sess.run(CrossEntropy, feed_dict={softmax: softmax_data, one_hot: one_hot_data})\n",
    "        \n",
    "    return output\n",
    "    \n",
    "\n",
    "print(run())\n",
    "    \n",
    "\n",
    "# TODO: Print cross entropy from session"
   ]
  }
 ],
 "metadata": {
  "kernelspec": {
   "display_name": "Python 3",
   "language": "python",
   "name": "python3"
  },
  "language_info": {
   "codemirror_mode": {
    "name": "ipython",
    "version": 3
   },
   "file_extension": ".py",
   "mimetype": "text/x-python",
   "name": "python",
   "nbconvert_exporter": "python",
   "pygments_lexer": "ipython3",
   "version": "3.6.6"
  }
 },
 "nbformat": 4,
 "nbformat_minor": 2
}
